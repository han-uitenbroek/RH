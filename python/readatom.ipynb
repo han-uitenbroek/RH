{
 "cells": [
  {
   "cell_type": "code",
   "execution_count": 1,
   "id": "2a5a3e80-e465-4d76-abf4-2d4440e6d335",
   "metadata": {},
   "outputs": [],
   "source": [
    "import numpy as np\n",
    "import os\n",
    "import glob\n",
    "from rhanalyze.rhtools import RHatom"
   ]
  },
  {
   "cell_type": "code",
   "execution_count": 2,
   "id": "be0ba00e-b580-46b5-ad7a-7d8d1182f64a",
   "metadata": {},
   "outputs": [],
   "source": [
    "home_dir  = os.path.expanduser(\"~\")\n",
    "atoms_dir = os.path.join(home_dir, \"Source/RH/Atoms\")"
   ]
  },
  {
   "cell_type": "code",
   "execution_count": 3,
   "id": "44e76408-2632-469f-8007-db4b00c2e850",
   "metadata": {},
   "outputs": [],
   "source": [
    "CaII = RHatom()\n",
    "CaII.read(os.path.join(atoms_dir, \"CaII.atom\"))\n",
    "CaII.write(os.path.join(home_dir, \"test_CaII.atom\"), overwrite=True)"
   ]
  },
  {
   "cell_type": "code",
   "execution_count": null,
   "id": "fd688799-9c93-4049-8845-ec2228f489e3",
   "metadata": {},
   "outputs": [],
   "source": [
    "CaII = RHatom(file=os.path.join(atoms_dir, \"CaII.atom\"))\n",
    "\n",
    "print(len(CaII.levels))\n",
    "print(\"|\" + CaII.levels[2].label + \"|\")\n",
    "print(CaII.bb_trans[4].log_gf)\n",
    "print(CaII.bb_trans[4].gamma_Stark)\n",
    "print(CaII.bf_trans[2].lamb_min)\n",
    "print(len(CaII.coll_trans))\n",
    "print(CaII.coll_trans[13].T)\n",
    "print(CaII.coll_trans[13].xsection)\n"
   ]
  },
  {
   "cell_type": "code",
   "execution_count": null,
   "id": "0978e939-36a4-4a9a-a09f-99c03b374268",
   "metadata": {},
   "outputs": [],
   "source": [
    "MgI = RHatom(file=os.path.join(atoms_dir, \"MgI_66.atom\"))\n",
    "print(MgI.Nlevel)"
   ]
  },
  {
   "cell_type": "code",
   "execution_count": null,
   "id": "55613b31-0362-4db2-b4ea-ffa06c135c68",
   "metadata": {},
   "outputs": [],
   "source": [
    "CaII.delete_level('CA II 3P6 3D 2DE 5  ')"
   ]
  },
  {
   "cell_type": "code",
   "execution_count": null,
   "id": "4ba1e3a2-8daa-4773-aefc-c1ad91e2ac52",
   "metadata": {},
   "outputs": [],
   "source": [
    "print(CaII.Nlevel, CaII.Nbb, CaII.Nbf)"
   ]
  },
  {
   "cell_type": "code",
   "execution_count": null,
   "id": "ae152bfd-7db6-4855-aae0-d172edf3be28",
   "metadata": {},
   "outputs": [],
   "source": [
    "MgI.write(os.path.join(home_dir, 'test_MgI.atom'), overwrite=True)"
   ]
  },
  {
   "cell_type": "code",
   "execution_count": null,
   "id": "7eb08451-39c7-4c63-98ed-37f6c0d79923",
   "metadata": {},
   "outputs": [],
   "source": [
    "CaII_fix = RHatom(file=os.path.join(atoms_dir, \"CaII_fixed.atom\"))\n",
    "print(CaII_fix.Nfix)\n",
    "print(CaII_fix.fix_trans[1].Trad)\n",
    "CaII_fix.write(os.path.join(home_dir, \"test_CaII_fix.atom\"), overwrite=True)"
   ]
  },
  {
   "cell_type": "code",
   "execution_count": null,
   "id": "2a12e1c6-67ab-48d5-92fb-ed4e563ba474",
   "metadata": {},
   "outputs": [],
   "source": [
    "print(\"aa  '{0:20s}'  88\".format(\"CAII  S 4p\"))"
   ]
  },
  {
   "cell_type": "code",
   "execution_count": null,
   "id": "a72eb32a-e98b-4484-8f37-93b9c3f563ba",
   "metadata": {},
   "outputs": [],
   "source": [
    "fmt = 4*\" {:5.2f}\" + '\\n'\n",
    "a = [0.1, 0.2, 0.33, 0.4]\n",
    "print(fmt.format(*a))\n",
    "print(a, *a)"
   ]
  },
  {
   "cell_type": "code",
   "execution_count": null,
   "id": "a1e7367b-c2d4-4fa9-addc-c02c8ef137d7",
   "metadata": {},
   "outputs": [],
   "source": [
    "b = 1.0\n",
    "c = 2.0\n",
    "d = True if b < c else False\n",
    "print(d)\n",
    "print(b,c)\n",
    "(b,c) = (c,b)\n",
    "print(b,c)"
   ]
  },
  {
   "cell_type": "code",
   "execution_count": null,
   "id": "9a480902-2780-4674-9c1e-b95951d7ea2f",
   "metadata": {},
   "outputs": [],
   "source": [
    "pairs = [(\"aa\", \"bb\"), (\"cc\", \"dd\")]\n",
    "if (\"aa\", \"bf\") in pairs:\n",
    "    print(\"yes\")\n",
    "else:\n",
    "    print(\"no!\")"
   ]
  },
  {
   "cell_type": "code",
   "execution_count": null,
   "id": "4adc1a97-6c40-4697-9ce8-79ecca2076a3",
   "metadata": {},
   "outputs": [],
   "source": [
    "bb=np.array([1.0, 2.0, 4.0])\n",
    "aa=bb\n",
    "if (aa == bb).all():\n",
    "    print(\"yes!\")"
   ]
  }
 ],
 "metadata": {
  "kernelspec": {
   "display_name": "Python 3 (ipykernel)",
   "language": "python",
   "name": "python3"
  },
  "language_info": {
   "codemirror_mode": {
    "name": "ipython",
    "version": 3
   },
   "file_extension": ".py",
   "mimetype": "text/x-python",
   "name": "python",
   "nbconvert_exporter": "python",
   "pygments_lexer": "ipython3",
   "version": "3.12.4"
  }
 },
 "nbformat": 4,
 "nbformat_minor": 5
}
